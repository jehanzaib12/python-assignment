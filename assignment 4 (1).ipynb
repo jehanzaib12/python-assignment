{
 "cells": [
  {
   "cell_type": "code",
   "execution_count": 1,
   "metadata": {},
   "outputs": [
    {
     "name": "stdout",
     "output_type": "stream",
     "text": [
      "firstname Muhammad\n",
      "lastname Uzair\n",
      "age 21\n",
      "city karachi\n"
     ]
    }
   ],
   "source": [
    "dic = {\n",
    "    \"firstname\" : \"Muhammad\",\n",
    "    \"lastname\" : \"Uzair\",\n",
    "    \"age\" : 21,\n",
    "    \"city\" : \"karachi\"\n",
    "}\n",
    "for key, value in dic.items() :\n",
    "    print(key , value )"
   ]
  },
  {
   "cell_type": "code",
   "execution_count": 9,
   "metadata": {},
   "outputs": [
    {
     "name": "stdout",
     "output_type": "stream",
     "text": [
      "firstname Muhammad\n",
      "lastname Uzair\n",
      "age 21\n",
      "city karachi\n",
      "qualification bscs\n"
     ]
    }
   ],
   "source": [
    "dic[\"qualification\"] = \"bscs\"\n",
    "for key, value in dic.items() :\n",
    "    print(key , value )"
   ]
  },
  {
   "cell_type": "code",
   "execution_count": 6,
   "metadata": {},
   "outputs": [
    {
     "name": "stdin",
     "output_type": "stream",
     "text": [
      "Enter the age  5\n"
     ]
    },
    {
     "name": "stdout",
     "output_type": "stream",
     "text": [
      "The ticket is $10\n"
     ]
    }
   ],
   "source": [
    "age = float(input(\"Enter the age \"))\n",
    "if age > 0 and age < 3 :\n",
    "    print(\"The ticket is free\")\n",
    "elif age >= 3 and age <= 12 :\n",
    "    print(\"The ticket is $10\")\n",
    "elif age > 12 :\n",
    "    print(\"The ticket is $15\")\n",
    "else :\n",
    "    print(\"Enter the correct age\")\n"
   ]
  },
  {
   "cell_type": "code",
   "execution_count": 8,
   "metadata": {},
   "outputs": [
    {
     "name": "stdout",
     "output_type": "stream",
     "text": [
      "The title is:  The book of the wonderland\n",
      "The message is:  One of my favorite books is Alice in Wonderland.\n"
     ]
    }
   ],
   "source": [
    "def fav_book(title) :\n",
    "    message = \"One of my favorite books is Alice in Wonderland.\"\n",
    "    print(\"The title is: \" , title)\n",
    "    print(\"The message is: \" , message)\n",
    "fav_book(\"The book of the wonderland\")\n"
   ]
  },
  {
   "cell_type": "code",
   "execution_count": 20,
   "metadata": {},
   "outputs": [
    {
     "name": "stdin",
     "output_type": "stream",
     "text": [
      "enter any number 5\n"
     ]
    },
    {
     "name": "stdout",
     "output_type": "stream",
     "text": [
      "your number is smaller\n"
     ]
    },
    {
     "name": "stdin",
     "output_type": "stream",
     "text": [
      "enter any number 5\n"
     ]
    },
    {
     "name": "stdout",
     "output_type": "stream",
     "text": [
      "your number is smaller\n"
     ]
    },
    {
     "name": "stdin",
     "output_type": "stream",
     "text": [
      "enter any number 5\n"
     ]
    },
    {
     "name": "stdout",
     "output_type": "stream",
     "text": [
      "your number is smaller\n",
      "sorry you lose! the number was 21\n"
     ]
    }
   ],
   "source": [
    "import random\n",
    "rannum = random.randint(1, 30)\n",
    "guess = 0\n",
    "\n",
    "\n",
    "while guess < 3:\n",
    "    userinput = int(input(\"enter any number\"))\n",
    "    guess = guess + 1\n",
    "    if rannum == userinput:\n",
    "        print(\"you won\")\n",
    "        break\n",
    "    elif(rannum < userinput):\n",
    "        print(\"your number is greater\")    \n",
    "    elif(rannum > userinput):\n",
    "        print(\"your number is smaller\")\n",
    "if rannum != userinput:\n",
    "    print(\"sorry you lose! the number was {}\".format(rannum))\n",
    "    "
   ]
  },
  {
   "cell_type": "code",
   "execution_count": null,
   "metadata": {},
   "outputs": [],
   "source": []
  }
 ],
 "metadata": {
  "kernelspec": {
   "display_name": "Python",
   "language": "python",
   "name": "conda-env-python-py"
  },
  "language_info": {
   "codemirror_mode": {
    "name": "ipython",
    "version": 3
   },
   "file_extension": ".py",
   "mimetype": "text/x-python",
   "name": "python",
   "nbconvert_exporter": "python",
   "pygments_lexer": "ipython3",
   "version": "3.6.7"
  }
 },
 "nbformat": 4,
 "nbformat_minor": 4
}
