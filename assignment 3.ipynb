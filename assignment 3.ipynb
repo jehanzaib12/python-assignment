{
 "cells": [
  {
   "cell_type": "code",
   "execution_count": null,
   "metadata": {},
   "outputs": [],
   "source": [
    "def add(x, y):\n",
    "    return x + y\n",
    "def subract(x, y):\n",
    "    return x - y\n",
    "def multiple(x, y):\n",
    "    return x * y\n",
    "def divide(x, y):\n",
    "    return x / y\n",
    "print(\"Select operation.\")\n",
    "print(\"1.Add\")\n",
    "print(\"2.Subtract\")\n",
    "print(\"3.Multiply\")\n",
    "print(\"4.Divide\")\n",
    "\n",
    "choice = input(\"Enter 1 for addition Enter 2 for subraction Enter 3 for multiply Enter 4 for divide\")\n",
    "\n",
    "\n",
    "\n",
    "num1 = float(input(\"Enter first number: \"))\n",
    "num2 = float(input(\"Enter second number: \"))\n",
    "\n",
    "if choice == '1':\n",
    "    print(num1, \"+\", num2, \"=\", add(num1,num2))\n",
    "elif choice == '2':\n",
    "    print(num1,\"-\",num2,\"=\", subtract(num1,num2))\n",
    "elif choice == '3':\n",
    "    print(num1,\"*\",num2,\"=\", multiply(num1,num2))\n",
    "elif choice == '4':\n",
    "    print(num1,\"/\",num2,\"=\", divide(num1,num2))\n",
    "else:\n",
    "    print(\"Invalid input\")\n",
    "             "
   ]
  },
  {
   "cell_type": "code",
   "execution_count": null,
   "metadata": {},
   "outputs": [],
   "source": []
  },
  {
   "cell_type": "code",
   "execution_count": null,
   "metadata": {},
   "outputs": [],
   "source": []
  },
  {
   "cell_type": "code",
   "execution_count": 1,
   "metadata": {},
   "outputs": [
    {
     "name": "stdout",
     "output_type": "stream",
     "text": [
      "['int exists', 'int exists', 'string exists', 'int exists', 'string exists', 'int exists', 'int exists']\n"
     ]
    }
   ],
   "source": [
    "#task 2\n",
    "string_list = ['20.0', '100', 'abc', '10.3445', 'adsfasdf.adsfasdf', '10,3445', '34,0']\n",
    "\n",
    "def check(inp):\n",
    "    try:\n",
    "        inp = inp.replace(',', '.')\n",
    "        float_num = float(inp)\n",
    "        int_num = int(float_num)\n",
    "        float_num == int_num\n",
    "        return 'int exists'\n",
    "    except ValueError:\n",
    "        return 'string exists'\n",
    "\n",
    "print([check(i) for i in string_list])"
   ]
  },
  {
   "cell_type": "code",
   "execution_count": 2,
   "metadata": {},
   "outputs": [
    {
     "name": "stdout",
     "output_type": "stream",
     "text": [
      "old dictionary {0: 10, 1: 23, 3: 50}\n",
      "new dictionary {0: 10, 1: 23, 3: 50, 4: 26}\n",
      "sum of all dic values:  109\n",
      "Yes, list contains duplicates\n",
      "key exists 23\n"
     ]
    }
   ],
   "source": [
    "#task 3 add item in dic\n",
    "dic = {0:10, 1:23, 3:50}\n",
    "print(\"old dictionary\", dic)\n",
    "dic.update({4:26})\n",
    "print(\"new dictionary\", dic)\n",
    "\n",
    "#task 4 printing sum of dic\n",
    "print(\"sum of all dic values: \", sum(dic.values()))\n",
    "\n",
    "\n",
    "#task 4 checking duplicates values in list\n",
    "\n",
    "string_list = ['20.0', '100', 'abc', '10.3445', 'adsfasdf.adsfasdf', '10,3445', '34,0']\n",
    "if len(string_list) == len(set(string_list)):\n",
    "    print('Yes, list contains duplicates')\n",
    "else:\n",
    "    print('No duplicates found in list')    \n",
    "    \n",
    "#task 5 \n",
    "\n",
    "dic = {0:10, 1:23, 3:50}\n",
    "key = 1\n",
    "if key in dic.keys():\n",
    "    print(\"key exists\", dic[key])\n",
    "else:\n",
    "    print(\"key doesnt exists\")\n"
   ]
  },
  {
   "cell_type": "code",
   "execution_count": null,
   "metadata": {},
   "outputs": [],
   "source": []
  },
  {
   "cell_type": "code",
   "execution_count": null,
   "metadata": {},
   "outputs": [],
   "source": []
  },
  {
   "cell_type": "code",
   "execution_count": null,
   "metadata": {},
   "outputs": [],
   "source": []
  },
  {
   "cell_type": "code",
   "execution_count": null,
   "metadata": {},
   "outputs": [],
   "source": []
  }
 ],
 "metadata": {
  "kernelspec": {
   "display_name": "Python",
   "language": "python",
   "name": "conda-env-python-py"
  },
  "language_info": {
   "codemirror_mode": {
    "name": "ipython",
    "version": 3
   },
   "file_extension": ".py",
   "mimetype": "text/x-python",
   "name": "python",
   "nbconvert_exporter": "python",
   "pygments_lexer": "ipython3",
   "version": "3.6.7"
  }
 },
 "nbformat": 4,
 "nbformat_minor": 4
}
