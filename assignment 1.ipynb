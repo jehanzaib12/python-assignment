{
 "cells": [
  {
   "cell_type": "code",
   "execution_count": 1,
   "metadata": {},
   "outputs": [
    {
     "name": "stdout",
     "output_type": "stream",
     "text": [
      "Twinkle, Twinkle, little star,\n",
      "\tHow I wonder what you are!\n",
      "\t\tUp above the world so high,\n",
      "\t\tLike a diamond in the sky,\n",
      "Twinkle, Twinkle, little star,\n",
      "\tHow I wonder what you are\n"
     ]
    }
   ],
   "source": [
    "print (\"Twinkle, Twinkle, little star,\" '\\n' + \"\\t\" + \"How I wonder what you are!\" + '\\n' + \"\\t\" + \"\\t\" + \"Up above the world so high,\" + \"\\n\" + \"\\t\" + \"\\t\" + \"Like a diamond in the sky,\")\n",
    "print (\"Twinkle, Twinkle, little star,\" '\\n' + \"\\t\" + \"How I wonder what you are\")"
   ]
  },
  {
   "cell_type": "code",
   "execution_count": 2,
   "metadata": {},
   "outputs": [
    {
     "name": "stdout",
     "output_type": "stream",
     "text": [
      "3.6.7 | packaged by conda-forge | (default, Nov  6 2019, 16:19:42) \n",
      "[GCC 7.3.0]\n"
     ]
    }
   ],
   "source": [
    "import platform;\n",
    "\n",
    "print(platform.sys.version)"
   ]
  },
  {
   "cell_type": "code",
   "execution_count": 3,
   "metadata": {},
   "outputs": [
    {
     "name": "stdout",
     "output_type": "stream",
     "text": [
      "Today's datetime: 2019-11-22 12:39:44.483941\n"
     ]
    }
   ],
   "source": [
    "from datetime import datetime\n",
    "today = datetime.today()\n",
    "print(\"Today's datetime:\", today)"
   ]
  },
  {
   "cell_type": "code",
   "execution_count": 4,
   "metadata": {},
   "outputs": [
    {
     "name": "stdin",
     "output_type": "stream",
     "text": [
      "Radius =  1\n"
     ]
    },
    {
     "name": "stdout",
     "output_type": "stream",
     "text": [
      "Area =  3.142\n"
     ]
    }
   ],
   "source": [
    "radius = float(input(\"Radius = \"))\n",
    "area = 3.142*radius**2\n",
    "print (\"Area = \" , area)"
   ]
  },
  {
   "cell_type": "code",
   "execution_count": 5,
   "metadata": {},
   "outputs": [
    {
     "name": "stdin",
     "output_type": "stream",
     "text": [
      "YOUR FIRST NAME :  jehanzaib\n",
      "YOUR LAST NAME :  jalaluddin\n"
     ]
    },
    {
     "name": "stdout",
     "output_type": "stream",
     "text": [
      "jalaluddin jehanzaib\n"
     ]
    }
   ],
   "source": [
    "first_name = input(\"YOUR FIRST NAME : \")\n",
    "last_name = input(\"YOUR LAST NAME : \")\n",
    "print (last_name  , first_name )"
   ]
  },
  {
   "cell_type": "code",
   "execution_count": 6,
   "metadata": {},
   "outputs": [
    {
     "name": "stdin",
     "output_type": "stream",
     "text": [
      "1st number :  1\n",
      "2nd number :  2\n"
     ]
    },
    {
     "name": "stdout",
     "output_type": "stream",
     "text": [
      "3\n"
     ]
    }
   ],
   "source": [
    "fno = int(input(\"1st number : \"))\n",
    "sno = int(input(\"2nd number : \"))\n",
    "addition = fno + sno\n",
    "print(addition)"
   ]
  },
  {
   "cell_type": "code",
   "execution_count": null,
   "metadata": {},
   "outputs": [],
   "source": []
  }
 ],
 "metadata": {
  "kernelspec": {
   "display_name": "Python",
   "language": "python",
   "name": "conda-env-python-py"
  },
  "language_info": {
   "codemirror_mode": {
    "name": "ipython",
    "version": 3
   },
   "file_extension": ".py",
   "mimetype": "text/x-python",
   "name": "python",
   "nbconvert_exporter": "python",
   "pygments_lexer": "ipython3",
   "version": "3.6.7"
  }
 },
 "nbformat": 4,
 "nbformat_minor": 4
}
