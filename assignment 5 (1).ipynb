{
 "cells": [
  {
   "cell_type": "code",
   "execution_count": 39,
   "metadata": {},
   "outputs": [
    {
     "name": "stdin",
     "output_type": "stream",
     "text": [
      "enter number to calculate factorial 5\n"
     ]
    },
    {
     "name": "stdout",
     "output_type": "stream",
     "text": [
      "120\n"
     ]
    }
   ],
   "source": [
    "def factorial(n):\n",
    "    num = 1\n",
    "    while n != 0:\n",
    "        if n >=0:\n",
    "            num = num * n\n",
    "            n = n - 1\n",
    "        else:\n",
    "            num = \"fact cant have negative integer\"\n",
    "    return num\n",
    "print(factorial(int(input(\"enter number to calculate factorial\"))))"
   ]
  },
  {
   "cell_type": "code",
   "execution_count": 20,
   "metadata": {},
   "outputs": [
    {
     "name": "stdin",
     "output_type": "stream",
     "text": [
      "enter string characters KashKan\n"
     ]
    },
    {
     "name": "stdout",
     "output_type": "stream",
     "text": [
      "upper case characters are: 2\n",
      "lower case characters are: 5\n"
     ]
    }
   ],
   "source": [
    "def calupernlower(s):\n",
    "    uppercase = []\n",
    "    lowercase = []\n",
    "    for i in s:\n",
    "        if i == i.upper():\n",
    "            uppercase.append(i)\n",
    "        else:\n",
    "            lowercase.append(i)\n",
    "    print(\"upper case characters are:\", len(uppercase))\n",
    "    print(\"lower case characters are:\", len(lowercase))\n",
    "    \n",
    "userinput = calupernlower(str(input(\"enter string characters\")))\n",
    "\n",
    "            "
   ]
  },
  {
   "cell_type": "code",
   "execution_count": 1,
   "metadata": {},
   "outputs": [
    {
     "name": "stdout",
     "output_type": "stream",
     "text": [
      "2\n",
      "4\n"
     ]
    }
   ],
   "source": [
    "ls = [1,2,3,4,5]\n",
    "for i in ls:\n",
    "    if i%2==0:\n",
    "        print(i)"
   ]
  },
  {
   "cell_type": "code",
   "execution_count": 31,
   "metadata": {},
   "outputs": [
    {
     "name": "stdin",
     "output_type": "stream",
     "text": [
      "enter string pop\n"
     ]
    },
    {
     "name": "stdout",
     "output_type": "stream",
     "text": [
      "it is palindrome\n"
     ]
    }
   ],
   "source": [
    "def palin(s):\n",
    "    revs = s[::-1]\n",
    "    if s == revs:\n",
    "        print(\"it is palindrome\")\n",
    "    else:\n",
    "        print(\"not a palindrome\")\n",
    "\n",
    "userinput = palin(str(input(\"enter string\")))"
   ]
  },
  {
   "cell_type": "code",
   "execution_count": 35,
   "metadata": {},
   "outputs": [
    {
     "name": "stdin",
     "output_type": "stream",
     "text": [
      "enter number 6\n"
     ]
    },
    {
     "name": "stdout",
     "output_type": "stream",
     "text": [
      "it isnt a prime number\n"
     ]
    }
   ],
   "source": [
    "def prime(n):\n",
    "    m = n/2\n",
    "    flag = True\n",
    "    for i in range(2,n):\n",
    "        if(n%i==0):\n",
    "            flag = False\n",
    "    if(flag):\n",
    "        print(\"it is a prime number\")\n",
    "    else:\n",
    "        print(\"it isnt a prime number\")\n",
    "        \n",
    "userinput = prime(int(input(\"enter number\")))"
   ]
  },
  {
   "cell_type": "code",
   "execution_count": 38,
   "metadata": {},
   "outputs": [
    {
     "name": "stdout",
     "output_type": "stream",
     "text": [
      "shoes earings\n",
      "d-dress\n",
      "s-sandals\n"
     ]
    }
   ],
   "source": [
    "def csls(firstitem, seconditem, **items):\n",
    "    print(firstitem,seconditem)\n",
    "    for key,value in items.items():\n",
    "        print(\"{}-{}\".format(key,value))\n",
    "csls(\"shoes\",\"earings\",d=\"dress\",s=\"sandals\")\n",
    "    "
   ]
  },
  {
   "cell_type": "code",
   "execution_count": null,
   "metadata": {},
   "outputs": [],
   "source": []
  }
 ],
 "metadata": {
  "kernelspec": {
   "display_name": "Python",
   "language": "python",
   "name": "conda-env-python-py"
  },
  "language_info": {
   "codemirror_mode": {
    "name": "ipython",
    "version": 3
   },
   "file_extension": ".py",
   "mimetype": "text/x-python",
   "name": "python",
   "nbconvert_exporter": "python",
   "pygments_lexer": "ipython3",
   "version": "3.6.7"
  }
 },
 "nbformat": 4,
 "nbformat_minor": 4
}
