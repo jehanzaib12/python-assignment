{
 "cells": [
  {
   "cell_type": "code",
   "execution_count": 12,
   "metadata": {},
   "outputs": [
    {
     "name": "stdout",
     "output_type": "stream",
     "text": [
      "car name is mira car color is blue\n",
      "the car name is mira and the owner is jehanzaib\n"
     ]
    },
    {
     "ename": "TypeError",
     "evalue": "change_owner() takes 1 positional argument but 2 were given",
     "output_type": "error",
     "traceback": [
      "\u001b[0;31m---------------------------------------------------------------------------\u001b[0m",
      "\u001b[0;31mTypeError\u001b[0m                                 Traceback (most recent call last)",
      "\u001b[0;32m<ipython-input-12-ffbf07fe8217>\u001b[0m in \u001b[0;36m<module>\u001b[0;34m\u001b[0m\n\u001b[1;32m     18\u001b[0m \u001b[0mobj1\u001b[0m\u001b[0;34m.\u001b[0m\u001b[0mcar_detail\u001b[0m\u001b[0;34m(\u001b[0m\u001b[0;34m)\u001b[0m\u001b[0;34m\u001b[0m\u001b[0;34m\u001b[0m\u001b[0m\n\u001b[1;32m     19\u001b[0m \u001b[0mobj1\u001b[0m\u001b[0;34m.\u001b[0m\u001b[0mowner\u001b[0m\u001b[0;34m(\u001b[0m\u001b[0;34m\"jehanzaib\"\u001b[0m\u001b[0;34m)\u001b[0m\u001b[0;34m\u001b[0m\u001b[0;34m\u001b[0m\u001b[0m\n\u001b[0;32m---> 20\u001b[0;31m \u001b[0mobj1\u001b[0m\u001b[0;34m.\u001b[0m\u001b[0mchange_owner\u001b[0m\u001b[0;34m(\u001b[0m\u001b[0;34m\"ali\"\u001b[0m\u001b[0;34m)\u001b[0m\u001b[0;34m\u001b[0m\u001b[0;34m\u001b[0m\u001b[0m\n\u001b[0m",
      "\u001b[0;31mTypeError\u001b[0m: change_owner() takes 1 positional argument but 2 were given"
     ]
    }
   ],
   "source": [
    "class Car():\n",
    "    def __init__(self, carname, color, model, reg_no):\n",
    "        self.carname = carname\n",
    "        self.color = color\n",
    "        self.model = model\n",
    "        self.reg_no = reg_no\n",
    "        \n",
    "    def car_detail(self):\n",
    "        print(\"car name is {} car color is {}\".format(self.carname,self.color,self.model,self.reg_no))\n",
    "    \n",
    "    def owner(self,owner):\n",
    "        print(\"the car name is {} and the owner is {}\".format(self.carname,owner))\n",
    "    \n",
    "    def change_owner(self,changeowner):\n",
    "        print(\"the new owner of this car is {}\".format(self.carname, changeowner))\n",
    "\n",
    "obj1 = Car(\"mira\",\"blue\",\"2018\",\"789\")\n",
    "obj1.car_detail()    \n",
    "obj1.owner(\"jehanzaib\")\n",
    "obj1.change_owner(\"ali\")"
   ]
  },
  {
   "cell_type": "code",
   "execution_count": null,
   "metadata": {},
   "outputs": [],
   "source": []
  }
 ],
 "metadata": {
  "kernelspec": {
   "display_name": "Python",
   "language": "python",
   "name": "conda-env-python-py"
  },
  "language_info": {
   "codemirror_mode": {
    "name": "ipython",
    "version": 3
   },
   "file_extension": ".py",
   "mimetype": "text/x-python",
   "name": "python",
   "nbconvert_exporter": "python",
   "pygments_lexer": "ipython3",
   "version": "3.6.7"
  }
 },
 "nbformat": 4,
 "nbformat_minor": 4
}
